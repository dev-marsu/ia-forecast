{
 "cells": [
  {
   "cell_type": "markdown",
   "metadata": {},
   "source": [
    "# Projeto Python IA: Inteligência Artificial e Previsões\n",
    "\n",
    "## Case: Histórico de Crédito dos Clientes\n",
    "\n",
    "*Você foi contratado por um banco para conseguir definir o score de crédito dos clientes. Você precisa analisar todos os clientes do banco e, com base na análise, criar um modelo que consiga ler as informações do cliente e dizer automaticamente o histórico de crédito dele: Ruim, Ok ou Bom.*"
   ]
  },
  {
   "cell_type": "code",
   "execution_count": null,
   "metadata": {},
   "outputs": [],
   "source": [
    "# Passo 0: Entender o desafio da empresa\n",
    "# Passo 1: Importar a base de dados\n",
    "# Passo 2: Tratar os dados para a Inteligência Artificial (Pré-Processamento)\n",
    "# Passo 3: Criar o modelo de IA -> Prever o Score de Crédito: Ruim, Ok ou Bom\n",
    "# Passo 4: Escolher qual o melhor modelo de IA\n",
    "# Passo 5: Utilizar a IA para definir o score de crédito dos clientes\n",
    "\n",
    "# !pip install pandas numpy scikit-learn"
   ]
  }
 ],
 "metadata": {
  "kernelspec": {
   "display_name": "Python 3",
   "language": "python",
   "name": "python3"
  },
  "language_info": {
   "codemirror_mode": {
    "name": "ipython",
    "version": 3
   },
   "file_extension": ".py",
   "mimetype": "text/x-python",
   "name": "python",
   "nbconvert_exporter": "python",
   "pygments_lexer": "ipython3",
   "version": "3.12.3"
  }
 },
 "nbformat": 4,
 "nbformat_minor": 2
}
